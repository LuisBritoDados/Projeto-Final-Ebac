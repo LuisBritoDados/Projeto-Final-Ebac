{
  "nbformat": 4,
  "nbformat_minor": 0,
  "metadata": {
    "colab": {
      "provenance": [],
      "collapsed_sections": [
        "I64lDUSHX7Vo",
        "HqOLlzM3YL43",
        "Hv_v2jphppgq",
        "Vpkk1JcFqF2A",
        "7rh5h0UM39P3",
        "pPR45yjkp-r3"
      ]
    },
    "kernelspec": {
      "name": "python3",
      "display_name": "Python 3"
    },
    "language_info": {
      "name": "python"
    }
  },
  "cells": [
    {
      "cell_type": "markdown",
      "source": [
        "# **Entendendo os Dados**\n",
        "\n",
        "### Importação, Leitura e visualização"
      ],
      "metadata": {
        "id": "I64lDUSHX7Vo"
      }
    },
    {
      "cell_type": "code",
      "execution_count": null,
      "metadata": {
        "colab": {
          "base_uri": "https://localhost:8080/"
        },
        "id": "-IP9-Noigcg3",
        "outputId": "36093f08-466f-4e7c-f5c7-e8f5c67ba4d8"
      },
      "outputs": [
        {
          "output_type": "stream",
          "name": "stdout",
          "text": [
            "Requirement already satisfied: pyspark in /usr/local/lib/python3.11/dist-packages (3.5.1)\n",
            "Requirement already satisfied: py4j==0.10.9.7 in /usr/local/lib/python3.11/dist-packages (from pyspark) (0.10.9.7)\n"
          ]
        }
      ],
      "source": [
        "#Instalação do Spark\n",
        "\n",
        "!pip install pyspark"
      ]
    },
    {
      "cell_type": "code",
      "source": [
        "# Importação das bibliotecas\n",
        "\n",
        "from pyspark.sql import SparkSession\n",
        "from pyspark.sql.functions import *\n",
        "from sklearn.linear_model import LinearRegression\n",
        "import pandas as pd\n",
        "from sklearn.metrics import r2_score"
      ],
      "metadata": {
        "id": "cvqoJ7zbhalH"
      },
      "execution_count": null,
      "outputs": []
    },
    {
      "cell_type": "code",
      "source": [
        "# Abrindo sessão Spark\n",
        "\n",
        "spark = SparkSession.builder \\\n",
        "    .appName(\"Projeto Olist\") \\\n",
        "    .getOrCreate()"
      ],
      "metadata": {
        "id": "EA-Zu9n1hays"
      },
      "execution_count": null,
      "outputs": []
    },
    {
      "cell_type": "code",
      "source": [
        "# Leitura dos arquivos CSV modificando o separador\n",
        "\n",
        "orders = spark.read.csv(\"/content/drive/MyDrive/olist_orders_dataset.csv\", header=True, inferSchema=True, sep=\",\")\n",
        "products = spark.read.csv(\"/content/drive/MyDrive/olist_products_dataset.csv\", header=True, inferSchema=True, sep=\",\")\n",
        "order_items = spark.read.csv(\"/content/drive/MyDrive/olist_order_items_dataset.csv\", header=True, inferSchema=True, sep=\",\")\n",
        "payments = spark.read.csv(\"/content/drive/MyDrive/olist_order_payments_dataset.csv\", header=True, inferSchema=True, sep=\",\")\n",
        "customers = spark.read.csv(\"/content/drive/MyDrive/olist_customers_dataset.csv\", header=True, inferSchema=True, sep=\",\")"
      ],
      "metadata": {
        "id": "TfU-6PWAha_N"
      },
      "execution_count": null,
      "outputs": []
    },
    {
      "cell_type": "code",
      "source": [
        "# Visualização das tabelas\n",
        "\n",
        "orders.show(10)\n",
        "products.show(5)\n",
        "order_items.show(5)\n",
        "payments.show(5)\n",
        "customers.show(5)"
      ],
      "metadata": {
        "colab": {
          "base_uri": "https://localhost:8080/"
        },
        "collapsed": true,
        "id": "SrKDGaXthbKI",
        "outputId": "c1628715-e7fc-4106-89be-baecd7c1f621"
      },
      "execution_count": null,
      "outputs": [
        {
          "output_type": "stream",
          "name": "stdout",
          "text": [
            "+--------------------+--------------------+------------+------------------------+-------------------+----------------------------+-----------------------------+-----------------------------+\n",
            "|            order_id|         customer_id|order_status|order_purchase_timestamp|  order_approved_at|order_delivered_carrier_date|order_delivered_customer_date|order_estimated_delivery_date|\n",
            "+--------------------+--------------------+------------+------------------------+-------------------+----------------------------+-----------------------------+-----------------------------+\n",
            "|e481f51cbdc54678b...|9ef432eb625129730...|   delivered|     2017-10-02 10:56:33|2017-10-02 11:07:15|         2017-10-04 19:55:00|          2017-10-10 21:25:13|          2017-10-18 00:00:00|\n",
            "|53cdb2fc8bc7dce0b...|b0830fb4747a6c6d2...|   delivered|     2018-07-24 20:41:37|2018-07-26 03:24:27|         2018-07-26 14:31:00|          2018-08-07 15:27:45|          2018-08-13 00:00:00|\n",
            "|47770eb9100c2d0c4...|41ce2a54c0b03bf34...|   delivered|     2018-08-08 08:38:49|2018-08-08 08:55:23|         2018-08-08 13:50:00|          2018-08-17 18:06:29|          2018-09-04 00:00:00|\n",
            "|949d5b44dbf5de918...|f88197465ea7920ad...|   delivered|     2017-11-18 19:28:06|2017-11-18 19:45:59|         2017-11-22 13:39:59|          2017-12-02 00:28:42|          2017-12-15 00:00:00|\n",
            "|ad21c59c0840e6cb8...|8ab97904e6daea886...|   delivered|     2018-02-13 21:18:39|2018-02-13 22:20:29|         2018-02-14 19:46:34|          2018-02-16 18:17:02|          2018-02-26 00:00:00|\n",
            "|a4591c265e18cb1dc...|503740e9ca751ccdd...|   delivered|     2017-07-09 21:57:05|2017-07-09 22:10:13|         2017-07-11 14:58:04|          2017-07-26 10:57:55|          2017-08-01 00:00:00|\n",
            "|136cce7faa42fdb2c...|ed0271e0b7da060a3...|    invoiced|     2017-04-11 12:22:08|2017-04-13 13:25:17|                        NULL|                         NULL|          2017-05-09 00:00:00|\n",
            "|6514b8ad8028c9f2c...|9bdf08b4b3b52b552...|   delivered|     2017-05-16 13:10:30|2017-05-16 13:22:11|         2017-05-22 10:07:46|          2017-05-26 12:55:51|          2017-06-07 00:00:00|\n",
            "|76c6e866289321a7c...|f54a9f0e6b351c431...|   delivered|     2017-01-23 18:29:09|2017-01-25 02:50:47|         2017-01-26 14:16:31|          2017-02-02 14:08:10|          2017-03-06 00:00:00|\n",
            "|e69bfb5eb88e0ed6a...|31ad1d1b63eb99624...|   delivered|     2017-07-29 11:55:02|2017-07-29 12:05:32|         2017-08-10 19:45:24|          2017-08-16 17:14:30|          2017-08-23 00:00:00|\n",
            "+--------------------+--------------------+------------+------------------------+-------------------+----------------------------+-----------------------------+-----------------------------+\n",
            "only showing top 10 rows\n",
            "\n",
            "+--------------------+---------------------+-------------------+--------------------------+------------------+----------------+-----------------+-----------------+----------------+\n",
            "|          product_id|product_category_name|product_name_lenght|product_description_lenght|product_photos_qty|product_weight_g|product_length_cm|product_height_cm|product_width_cm|\n",
            "+--------------------+---------------------+-------------------+--------------------------+------------------+----------------+-----------------+-----------------+----------------+\n",
            "|1e9e8ef04dbcff454...|           perfumaria|                 40|                       287|                 1|             225|               16|               10|              14|\n",
            "|3aa071139cb16b67c...|                artes|                 44|                       276|                 1|            1000|               30|               18|              20|\n",
            "|96bd76ec8810374ed...|        esporte_lazer|                 46|                       250|                 1|             154|               18|                9|              15|\n",
            "|cef67bcfe19066a93...|                bebes|                 27|                       261|                 1|             371|               26|                4|              26|\n",
            "|9dc1a7de274444849...| utilidades_domest...|                 37|                       402|                 4|             625|               20|               17|              13|\n",
            "+--------------------+---------------------+-------------------+--------------------------+------------------+----------------+-----------------+-----------------+----------------+\n",
            "only showing top 5 rows\n",
            "\n",
            "+--------------------+-------------+--------------------+--------------------+-------------------+-----+-------------+\n",
            "|            order_id|order_item_id|          product_id|           seller_id|shipping_limit_date|price|freight_value|\n",
            "+--------------------+-------------+--------------------+--------------------+-------------------+-----+-------------+\n",
            "|00010242fe8c5a6d1...|            1|4244733e06e7ecb49...|48436dade18ac8b2b...|2017-09-19 09:45:35| 58.9|        13.29|\n",
            "|00018f77f2f0320c5...|            1|e5f2d52b802189ee6...|dd7ddc04e1b6c2c61...|2017-05-03 11:05:13|239.9|        19.93|\n",
            "|000229ec398224ef6...|            1|c777355d18b72b67a...|5b51032eddd242adc...|2018-01-18 14:48:30|199.0|        17.87|\n",
            "|00024acbcdf0a6daa...|            1|7634da152a4610f15...|9d7a1d34a50524090...|2018-08-15 10:10:18|12.99|        12.79|\n",
            "|00042b26cf59d7ce6...|            1|ac6c3623068f30de0...|df560393f3a51e745...|2017-02-13 13:57:51|199.9|        18.14|\n",
            "+--------------------+-------------+--------------------+--------------------+-------------------+-----+-------------+\n",
            "only showing top 5 rows\n",
            "\n",
            "+--------------------+------------------+------------+--------------------+-------------+\n",
            "|            order_id|payment_sequential|payment_type|payment_installments|payment_value|\n",
            "+--------------------+------------------+------------+--------------------+-------------+\n",
            "|b81ef226f3fe1789b...|                 1| credit_card|                   8|        99.33|\n",
            "|a9810da82917af2d9...|                 1| credit_card|                   1|        24.39|\n",
            "|25e8ea4e93396b6fa...|                 1| credit_card|                   1|        65.71|\n",
            "|ba78997921bbcdc13...|                 1| credit_card|                   8|       107.78|\n",
            "|42fdf880ba16b47b5...|                 1| credit_card|                   2|       128.45|\n",
            "+--------------------+------------------+------------+--------------------+-------------+\n",
            "only showing top 5 rows\n",
            "\n",
            "+--------------------+--------------------+------------------------+--------------------+--------------+\n",
            "|         customer_id|  customer_unique_id|customer_zip_code_prefix|       customer_city|customer_state|\n",
            "+--------------------+--------------------+------------------------+--------------------+--------------+\n",
            "|06b8999e2fba1a1fb...|861eff4711a542e4b...|                   14409|              franca|            SP|\n",
            "|18955e83d337fd6b2...|290c77bc529b7ac93...|                    9790|sao bernardo do c...|            SP|\n",
            "|4e7b3e00288586ebd...|060e732b5b29e8181...|                    1151|           sao paulo|            SP|\n",
            "|b2b6027bc5c5109e5...|259dac757896d24d7...|                    8775|     mogi das cruzes|            SP|\n",
            "|4f2d8ab171c80ec83...|345ecd01c38d18a90...|                   13056|            campinas|            SP|\n",
            "+--------------------+--------------------+------------------------+--------------------+--------------+\n",
            "only showing top 5 rows\n",
            "\n"
          ]
        }
      ]
    },
    {
      "cell_type": "code",
      "source": [
        "# Visualização da estrutura\n",
        "\n",
        "orders.printSchema()\n",
        "products.printSchema()\n",
        "order_items.printSchema()\n",
        "payments.printSchema()\n",
        "customers.printSchema()"
      ],
      "metadata": {
        "colab": {
          "base_uri": "https://localhost:8080/"
        },
        "collapsed": true,
        "id": "xnYpwU0tiEDA",
        "outputId": "a625badb-972b-42e6-b668-6f6d35d301dd"
      },
      "execution_count": null,
      "outputs": [
        {
          "output_type": "stream",
          "name": "stdout",
          "text": [
            "root\n",
            " |-- order_id: string (nullable = true)\n",
            " |-- customer_id: string (nullable = true)\n",
            " |-- order_status: string (nullable = true)\n",
            " |-- order_purchase_timestamp: timestamp (nullable = true)\n",
            " |-- order_approved_at: timestamp (nullable = true)\n",
            " |-- order_delivered_carrier_date: timestamp (nullable = true)\n",
            " |-- order_delivered_customer_date: timestamp (nullable = true)\n",
            " |-- order_estimated_delivery_date: timestamp (nullable = true)\n",
            "\n",
            "root\n",
            " |-- product_id: string (nullable = true)\n",
            " |-- product_category_name: string (nullable = true)\n",
            " |-- product_name_lenght: integer (nullable = true)\n",
            " |-- product_description_lenght: integer (nullable = true)\n",
            " |-- product_photos_qty: integer (nullable = true)\n",
            " |-- product_weight_g: integer (nullable = true)\n",
            " |-- product_length_cm: integer (nullable = true)\n",
            " |-- product_height_cm: integer (nullable = true)\n",
            " |-- product_width_cm: integer (nullable = true)\n",
            "\n",
            "root\n",
            " |-- order_id: string (nullable = true)\n",
            " |-- order_item_id: integer (nullable = true)\n",
            " |-- product_id: string (nullable = true)\n",
            " |-- seller_id: string (nullable = true)\n",
            " |-- shipping_limit_date: timestamp (nullable = true)\n",
            " |-- price: double (nullable = true)\n",
            " |-- freight_value: double (nullable = true)\n",
            "\n",
            "root\n",
            " |-- order_id: string (nullable = true)\n",
            " |-- payment_sequential: integer (nullable = true)\n",
            " |-- payment_type: string (nullable = true)\n",
            " |-- payment_installments: integer (nullable = true)\n",
            " |-- payment_value: double (nullable = true)\n",
            "\n",
            "root\n",
            " |-- customer_id: string (nullable = true)\n",
            " |-- customer_unique_id: string (nullable = true)\n",
            " |-- customer_zip_code_prefix: integer (nullable = true)\n",
            " |-- customer_city: string (nullable = true)\n",
            " |-- customer_state: string (nullable = true)\n",
            "\n"
          ]
        }
      ]
    },
    {
      "cell_type": "markdown",
      "source": [
        "# **Tratamento e Preparação dos Dados**\n",
        "\n",
        "### Conversão, Criação de Colunas e Joins"
      ],
      "metadata": {
        "id": "HqOLlzM3YL43"
      }
    },
    {
      "cell_type": "code",
      "source": [
        "# Verficação de nulos\n",
        "\n",
        "orders.select([count(when(col(c).isNull(), c)).alias(c) for c in orders.columns]).show()"
      ],
      "metadata": {
        "colab": {
          "base_uri": "https://localhost:8080/"
        },
        "collapsed": true,
        "id": "hmnMQ5LRhdfK",
        "outputId": "20f0bafa-f43d-46b9-96ce-5e261b8d1406"
      },
      "execution_count": null,
      "outputs": [
        {
          "output_type": "stream",
          "name": "stdout",
          "text": [
            "+--------+-----------+------------+------------------------+-----------------+----------------------------+-----------------------------+-----------------------------+\n",
            "|order_id|customer_id|order_status|order_purchase_timestamp|order_approved_at|order_delivered_carrier_date|order_delivered_customer_date|order_estimated_delivery_date|\n",
            "+--------+-----------+------------+------------------------+-----------------+----------------------------+-----------------------------+-----------------------------+\n",
            "|       0|          0|           0|                       0|              160|                        1783|                         2965|                            0|\n",
            "+--------+-----------+------------+------------------------+-----------------+----------------------------+-----------------------------+-----------------------------+\n",
            "\n"
          ]
        }
      ]
    },
    {
      "cell_type": "code",
      "source": [
        "# Conversão do tipo da coluna\n",
        "\n",
        "orders = orders.withColumn(\"order_purchase_timestamp\", to_timestamp(\"order_purchase_timestamp\", \"dd/MM/yyyy HH:mm\"))\n",
        "orders = orders.withColumn(\"order_approved_at\", to_timestamp(\"order_approved_at\", \"dd/MM/yyyy HH:mm\"))\n",
        "\n",
        "payments = payments.withColumn(\"payment_value\", col(\"payment_value\").cast(\"double\"))\n",
        "\n",
        "order_items = order_items.withColumn(\"shipping_limit_date\", to_timestamp(\"shipping_limit_date\", \"dd/MM/yyyy HH:mm\"))\n",
        "order_items = order_items.withColumn(\"price\", col(\"price\").cast(\"double\"))\n",
        "order_items = order_items.withColumn(\"freight_value\", col(\"freight_value\").cast(\"double\"))"
      ],
      "metadata": {
        "id": "bzKPcSj9iESJ"
      },
      "execution_count": null,
      "outputs": []
    },
    {
      "cell_type": "code",
      "source": [
        "# Criando novas colunas\n",
        "\n",
        "orders = orders.withColumn(\"dias_entrega\", datediff(col(\"order_delivered_customer_date\"), col(\"order_purchase_timestamp\")))\n",
        "\n",
        "orders = orders.withColumn(\"ano\", year(\"order_purchase_timestamp\")) \\\n",
        "       .withColumn(\"mes\", month(\"order_purchase_timestamp\"))"
      ],
      "metadata": {
        "id": "IQNLUsoXiEqj"
      },
      "execution_count": null,
      "outputs": []
    },
    {
      "cell_type": "code",
      "source": [
        "# Join das tabelas\n",
        "\n",
        "df1 = orders.join(payments, on=\"order_id\", how=\"inner\")\n",
        "df2 = df1.join(order_items, on=\"order_id\", how=\"inner\")\n",
        "df_final = df2.join(products, on=\"product_id\", how=\"left\")\n",
        "df_final2 = df_final.join(customers, on=\"customer_id\", how=\"left\")"
      ],
      "metadata": {
        "id": "BJELpT_diE6J"
      },
      "execution_count": null,
      "outputs": []
    },
    {
      "cell_type": "markdown",
      "source": [
        "# **Análise Exploratória dos Dados**\n",
        "\n",
        "### Insights com Estatística e Agregação"
      ],
      "metadata": {
        "id": "Si9Fl5LnYXws"
      }
    },
    {
      "cell_type": "markdown",
      "source": [
        "## **Quantidade Geral**"
      ],
      "metadata": {
        "id": "Hv_v2jphppgq"
      }
    },
    {
      "cell_type": "code",
      "source": [
        "# Quantidade de pedidos realizados\n",
        "\n",
        "orders.select(\"order_id\").distinct().count()"
      ],
      "metadata": {
        "colab": {
          "base_uri": "https://localhost:8080/"
        },
        "id": "XYNAwWHffbCv",
        "outputId": "c316236f-b6fe-41e0-89f3-7d761005adf9"
      },
      "execution_count": null,
      "outputs": [
        {
          "output_type": "execute_result",
          "data": {
            "text/plain": [
              "99441"
            ]
          },
          "metadata": {},
          "execution_count": 11
        }
      ]
    },
    {
      "cell_type": "code",
      "source": [
        "# Quantidade de pedidos por categoria\n",
        "\n",
        "df_final.groupBy(\"product_category_name\").count().orderBy(\"count\", ascending=False).show(10)"
      ],
      "metadata": {
        "colab": {
          "base_uri": "https://localhost:8080/"
        },
        "id": "c5KxRHK-tTCs",
        "outputId": "ea6d52ba-a72f-4c63-82ac-9130155875aa",
        "collapsed": true
      },
      "execution_count": null,
      "outputs": [
        {
          "output_type": "stream",
          "name": "stdout",
          "text": [
            "+---------------------+-----+\n",
            "|product_category_name|count|\n",
            "+---------------------+-----+\n",
            "|      cama_mesa_banho|11823|\n",
            "|         beleza_saude| 9972|\n",
            "|        esporte_lazer| 8945|\n",
            "|     moveis_decoracao| 8744|\n",
            "| informatica_acess...| 8082|\n",
            "| utilidades_domest...| 7355|\n",
            "|   relogios_presentes| 6201|\n",
            "|            telefonia| 4721|\n",
            "|   ferramentas_jardim| 4574|\n",
            "|           automotivo| 4379|\n",
            "+---------------------+-----+\n",
            "only showing top 10 rows\n",
            "\n"
          ]
        }
      ]
    },
    {
      "cell_type": "code",
      "source": [
        "# Quantidade de pedidos por tipo de pagamento\n",
        "\n",
        "payments.groupBy(\"payment_type\").count().orderBy(\"count\", ascending=False).show()"
      ],
      "metadata": {
        "colab": {
          "base_uri": "https://localhost:8080/"
        },
        "id": "hkwHTBc2ueua",
        "outputId": "985ee243-b30c-4972-ac7e-1a8381206f0c",
        "collapsed": true
      },
      "execution_count": null,
      "outputs": [
        {
          "output_type": "stream",
          "name": "stdout",
          "text": [
            "+------------+-----+\n",
            "|payment_type|count|\n",
            "+------------+-----+\n",
            "| credit_card|76795|\n",
            "|      boleto|19784|\n",
            "|     voucher| 5775|\n",
            "|  debit_card| 1529|\n",
            "| not_defined|    3|\n",
            "+------------+-----+\n",
            "\n"
          ]
        }
      ]
    },
    {
      "cell_type": "code",
      "source": [
        "# Clientes recorrentes e únicos\n",
        "\n",
        "print(f'Clientes recorrentes: {df_final.groupBy(\"customer_id\").count().filter(\"count > 1\").count()}')\n",
        "print(f'Clientes únicos: {df_final.groupBy(\"customer_id\").count().filter(\"count = 1\").count()}')"
      ],
      "metadata": {
        "colab": {
          "base_uri": "https://localhost:8080/"
        },
        "id": "dZXGkW6mfWKx",
        "outputId": "fe209dd9-9047-42ba-a6ef-3d461a533ccf"
      },
      "execution_count": null,
      "outputs": [
        {
          "output_type": "stream",
          "name": "stdout",
          "text": [
            "Clientes recorrentes: 12463\n",
            "Clientes únicos: 86202\n"
          ]
        }
      ]
    },
    {
      "cell_type": "markdown",
      "source": [
        "## **Financeiro**"
      ],
      "metadata": {
        "id": "Vpkk1JcFqF2A"
      }
    },
    {
      "cell_type": "code",
      "source": [
        "# Volume total pago\n",
        "\n",
        "payments.agg(\n",
        "    format_number(sum(\"payment_value\"), 2).alias(\"total_pago\")\n",
        ").show()"
      ],
      "metadata": {
        "colab": {
          "base_uri": "https://localhost:8080/"
        },
        "id": "xTRiJfuA_nsx",
        "outputId": "10375496-71ac-4f5f-b162-716789af5731"
      },
      "execution_count": null,
      "outputs": [
        {
          "output_type": "stream",
          "name": "stdout",
          "text": [
            "+-------------+\n",
            "|   total_pago|\n",
            "+-------------+\n",
            "|16,008,872.12|\n",
            "+-------------+\n",
            "\n"
          ]
        }
      ]
    },
    {
      "cell_type": "code",
      "source": [
        "# Total pago por tipo de pagamento\n",
        "\n",
        "payments.groupBy(\"payment_type\") \\\n",
        "    .agg(format_number(sum(\"payment_value\"), 2).alias(\"total_pago\")) \\\n",
        "    .show()"
      ],
      "metadata": {
        "colab": {
          "base_uri": "https://localhost:8080/"
        },
        "id": "PYRWxaE8hsTm",
        "outputId": "8e117df2-2210-4db8-810c-00c8cd74c30c",
        "collapsed": true
      },
      "execution_count": null,
      "outputs": [
        {
          "output_type": "stream",
          "name": "stdout",
          "text": [
            "+------------+-------------+\n",
            "|payment_type|   total_pago|\n",
            "+------------+-------------+\n",
            "|      boleto| 2,869,361.27|\n",
            "| not_defined|         0.00|\n",
            "| credit_card|12,542,084.19|\n",
            "|     voucher|   379,436.87|\n",
            "|  debit_card|   217,989.79|\n",
            "+------------+-------------+\n",
            "\n"
          ]
        }
      ]
    },
    {
      "cell_type": "code",
      "source": [
        "# Total pago por categoria\n",
        "\n",
        "df_final.groupBy(\"product_category_name\") \\\n",
        "    .agg(format_number(sum(\"payment_value\"), 2).alias(\"total_pago\")) \\\n",
        "    .orderBy(\"total_pago\", ascending=False) \\\n",
        "    .show(10)"
      ],
      "metadata": {
        "colab": {
          "base_uri": "https://localhost:8080/"
        },
        "id": "0GMoFm54t6yP",
        "outputId": "eccb992d-9334-47da-9cc3-0ba18d1e6f31"
      },
      "execution_count": null,
      "outputs": [
        {
          "output_type": "stream",
          "name": "stdout",
          "text": [
            "+---------------------+----------+\n",
            "|product_category_name|total_pago|\n",
            "+---------------------+----------+\n",
            "|     eletrodomesticos| 95,532.27|\n",
            "|         climatizacao| 91,170.66|\n",
            "|            cine_foto|  9,530.32|\n",
            "|           automotivo|852,294.33|\n",
            "|        casa_conforto| 84,329.06|\n",
            "|   ferramentas_jardim|838,280.75|\n",
            "| fashion_roupa_inf...|    785.67|\n",
            "|           cool_stuff|779,698.00|\n",
            "| moveis_cozinha_ar...| 74,660.98|\n",
            "| construcao_ferram...| 72,712.48|\n",
            "+---------------------+----------+\n",
            "only showing top 10 rows\n",
            "\n"
          ]
        }
      ]
    },
    {
      "cell_type": "code",
      "source": [
        "# Ticket médio do valor por categoria de produto\n",
        "\n",
        "df_final.groupBy(\"product_category_name\").agg(avg(\"payment_value\").alias(\"media_categoria\")).orderBy(\"media_categoria\", ascending=False).show(10)"
      ],
      "metadata": {
        "colab": {
          "base_uri": "https://localhost:8080/"
        },
        "id": "fE9x2YEfhLsn",
        "outputId": "8d668c68-4e17-44cf-bade-fa22a4d36466"
      },
      "execution_count": null,
      "outputs": [
        {
          "output_type": "stream",
          "name": "stdout",
          "text": [
            "+---------------------+------------------+\n",
            "|product_category_name|   media_categoria|\n",
            "+---------------------+------------------+\n",
            "|                  pcs|1268.7343181818185|\n",
            "|       telefonia_fixa| 763.8754981549814|\n",
            "| portateis_casa_fo...|  656.786153846154|\n",
            "| agro_industria_e_...| 471.1532142857142|\n",
            "|   eletrodomesticos_2|464.78902985074626|\n",
            "|    moveis_escritorio| 363.7944263217091|\n",
            "| sinalizacao_e_seg...| 340.7365671641792|\n",
            "| construcao_ferram...|330.10567839195977|\n",
            "| instrumentos_musi...|324.61576601671317|\n",
            "|      eletroportateis| 321.8036804564905|\n",
            "+---------------------+------------------+\n",
            "only showing top 10 rows\n",
            "\n"
          ]
        }
      ]
    },
    {
      "cell_type": "code",
      "source": [
        "# Ticket médio do valor pago por pedido\n",
        "\n",
        "df_ticket = df_final.select(\"order_id\", \"payment_value\").dropDuplicates() \\\n",
        "    .groupBy(\"order_id\").agg(sum(\"payment_value\").alias(\"valor_total\"))\n",
        "\n",
        "df_ticket.agg(avg(\"valor_total\").alias(\"ticket_medio\")).show()"
      ],
      "metadata": {
        "colab": {
          "base_uri": "https://localhost:8080/"
        },
        "id": "3UWxzdKNn2sS",
        "outputId": "4c13866c-dbbb-4800-e215-fea604eea7c9"
      },
      "execution_count": null,
      "outputs": [
        {
          "output_type": "stream",
          "name": "stdout",
          "text": [
            "+-----------------+\n",
            "|     ticket_medio|\n",
            "+-----------------+\n",
            "|160.4290819439462|\n",
            "+-----------------+\n",
            "\n"
          ]
        }
      ]
    },
    {
      "cell_type": "code",
      "source": [
        "# Desvio padrão do valor pago por pedido\n",
        "\n",
        "df_final.groupBy(\"order_id\") \\\n",
        "    .agg(sum(\"payment_value\").alias(\"total\")) \\\n",
        "    .agg(stddev(\"total\").alias(\"desvio_padrao\")).show()\n",
        "\n",
        "# Confirmação do desvio\n",
        "\n",
        "df_ticket.orderBy(\"valor_total\", ascending=False).show(10, truncate=False)"
      ],
      "metadata": {
        "colab": {
          "base_uri": "https://localhost:8080/"
        },
        "collapsed": true,
        "id": "sPC_lFmLbzFN",
        "outputId": "12bf7b69-2d75-4703-d69f-50a7feddaf24"
      },
      "execution_count": null,
      "outputs": [
        {
          "output_type": "stream",
          "name": "stdout",
          "text": [
            "+-----------------+\n",
            "|    desvio_padrao|\n",
            "+-----------------+\n",
            "|620.7294025421496|\n",
            "+-----------------+\n",
            "\n",
            "+--------------------------------+-----------+\n",
            "|order_id                        |valor_total|\n",
            "+--------------------------------+-----------+\n",
            "|03caa2c082116e1d31e67e9ae3700499|13664.08   |\n",
            "|736e1922ae60d0d6a89247b851902527|7274.88    |\n",
            "|0812eb902a67711a1cb742b3cdaa65ae|6929.31    |\n",
            "|fefacc66af859508bf1a7934eab1e97f|6922.21    |\n",
            "|f5136e38d1a14a4dbd87dff67da82701|6726.66    |\n",
            "|2cc9089445046817a7539d90805e6e5a|6081.54    |\n",
            "|a96610ab360d42a2e5335a3998b4718a|4950.34    |\n",
            "|b4c4b76c642808cbe472a32b86cddc95|4809.44    |\n",
            "|199af31afc78c699f0dbf71fb178d4d4|4764.34    |\n",
            "|8dbc85d1447242f3b127dda390d56e19|4681.78    |\n",
            "+--------------------------------+-----------+\n",
            "only showing top 10 rows\n",
            "\n"
          ]
        }
      ]
    },
    {
      "cell_type": "code",
      "source": [
        "# Média de parcelamento por categoria de produto\n",
        "\n",
        "df_final.groupBy(\"product_category_name\").agg(avg(\"payment_installments\").alias(\"media_parcelas\")).orderBy(\"media_parcelas\", ascending=False).show(10)"
      ],
      "metadata": {
        "colab": {
          "base_uri": "https://localhost:8080/"
        },
        "collapsed": true,
        "id": "K3PpDB0jinVh",
        "outputId": "d8af4b56-bbbd-468e-da50-98255ac105cb"
      },
      "execution_count": null,
      "outputs": [
        {
          "output_type": "stream",
          "name": "stdout",
          "text": [
            "+---------------------+------------------+\n",
            "|product_category_name|    media_parcelas|\n",
            "+---------------------+------------------+\n",
            "|                  pcs| 6.009090909090909|\n",
            "| portateis_casa_fo...| 5.487179487179487|\n",
            "|           la_cuisine|              4.25|\n",
            "|   eletrodomesticos_2| 4.104477611940299|\n",
            "|          moveis_sala| 4.026515151515151|\n",
            "|        casa_conforto| 3.993684210526316|\n",
            "|    moveis_escritorio|3.8172103487064115|\n",
            "| fashion_roupa_fem...|3.7916666666666665|\n",
            "|   relogios_presentes|3.6729559748427674|\n",
            "| construcao_ferram...|3.6572029442691902|\n",
            "+---------------------+------------------+\n",
            "only showing top 10 rows\n",
            "\n"
          ]
        }
      ]
    },
    {
      "cell_type": "markdown",
      "source": [
        "## **Tempo e Data**"
      ],
      "metadata": {
        "id": "kFTdiCF1qaKO"
      }
    },
    {
      "cell_type": "code",
      "source": [
        "# Quantidade de pedidos realizados por ano e por mês\n",
        "\n",
        "orders.groupBy(\"ano\", \"mes\") \\\n",
        "  .agg(countDistinct(\"order_id\").alias(\"total_pedidos\")) \\\n",
        "  .orderBy(\"ano\", \"mes\") \\\n",
        "  .show()"
      ],
      "metadata": {
        "colab": {
          "base_uri": "https://localhost:8080/"
        },
        "collapsed": true,
        "id": "M3RFLu3jfiio",
        "outputId": "a0809d22-6271-4fdc-8d1a-31eced142c37"
      },
      "execution_count": null,
      "outputs": [
        {
          "output_type": "stream",
          "name": "stdout",
          "text": [
            "+----+---+-------------+\n",
            "| ano|mes|total_pedidos|\n",
            "+----+---+-------------+\n",
            "|2016|  9|            4|\n",
            "|2016| 10|          324|\n",
            "|2016| 12|            1|\n",
            "|2017|  1|          800|\n",
            "|2017|  2|         1780|\n",
            "|2017|  3|         2682|\n",
            "|2017|  4|         2404|\n",
            "|2017|  5|         3700|\n",
            "|2017|  6|         3245|\n",
            "|2017|  7|         4026|\n",
            "|2017|  8|         4331|\n",
            "|2017|  9|         4285|\n",
            "|2017| 10|         4631|\n",
            "|2017| 11|         7544|\n",
            "|2017| 12|         5673|\n",
            "|2018|  1|         7269|\n",
            "|2018|  2|         6728|\n",
            "|2018|  3|         7211|\n",
            "|2018|  4|         6939|\n",
            "|2018|  5|         6873|\n",
            "+----+---+-------------+\n",
            "only showing top 20 rows\n",
            "\n"
          ]
        }
      ]
    },
    {
      "cell_type": "code",
      "source": [
        "# Quantidade de pedidos por hora\n",
        "\n",
        "df_final = df_final.withColumn(\"hora\", hour(\"order_purchase_timestamp\"))\n",
        "df_final.groupBy(\"hora\").count().orderBy(\"hora\").show(25)"
      ],
      "metadata": {
        "colab": {
          "base_uri": "https://localhost:8080/"
        },
        "collapsed": true,
        "id": "KIkPOab0kN1k",
        "outputId": "8285cf06-1c61-4652-ac5d-cc802facc099"
      },
      "execution_count": null,
      "outputs": [
        {
          "output_type": "stream",
          "name": "stdout",
          "text": [
            "+----+-----+\n",
            "|hora|count|\n",
            "+----+-----+\n",
            "|   0| 2894|\n",
            "|   1| 1339|\n",
            "|   2|  611|\n",
            "|   3|  323|\n",
            "|   4|  253|\n",
            "|   5|  225|\n",
            "|   6|  569|\n",
            "|   7| 1419|\n",
            "|   8| 3501|\n",
            "|   9| 5644|\n",
            "|  10| 7325|\n",
            "|  11| 7769|\n",
            "|  12| 7185|\n",
            "|  13| 7671|\n",
            "|  14| 7896|\n",
            "|  15| 7612|\n",
            "|  16| 7990|\n",
            "|  17| 7255|\n",
            "|  18| 6856|\n",
            "|  19| 6983|\n",
            "|  20| 7235|\n",
            "|  21| 7249|\n",
            "|  22| 6923|\n",
            "|  23| 4874|\n",
            "+----+-----+\n",
            "\n"
          ]
        }
      ]
    },
    {
      "cell_type": "code",
      "source": [
        "# Quantidade de pedidos por dia da semana\n",
        "\n",
        "df_final = df_final.withColumn(\"dia_semana\", dayofweek(\"order_purchase_timestamp\"))\n",
        "df_final.groupBy(\"dia_semana\").count().orderBy(\"dia_semana\").show(10)"
      ],
      "metadata": {
        "colab": {
          "base_uri": "https://localhost:8080/"
        },
        "id": "tIxC2eLRz5Vk",
        "outputId": "c8119959-759e-4d55-b65f-44528c1a164b",
        "collapsed": true
      },
      "execution_count": null,
      "outputs": [
        {
          "output_type": "stream",
          "name": "stdout",
          "text": [
            "+----------+-----+\n",
            "|dia_semana|count|\n",
            "+----------+-----+\n",
            "|         1|13936|\n",
            "|         2|19130|\n",
            "|         3|19077|\n",
            "|         4|18380|\n",
            "|         5|17590|\n",
            "|         6|16760|\n",
            "|         7|12728|\n",
            "+----------+-----+\n",
            "\n"
          ]
        }
      ]
    },
    {
      "cell_type": "code",
      "source": [
        "# Tempo médio, mínimo e máximo de entrega\n",
        "\n",
        "df_final = df_final.withColumn(\"dias_entrega\", datediff(col(\"order_delivered_customer_date\"), col(\"order_purchase_timestamp\")))\n",
        "\n",
        "df_final.agg(\n",
        "    avg(\"dias_entrega\").alias(\"média\"),\n",
        "    min(\"dias_entrega\").alias(\"mínimo\"),\n",
        "    max(\"dias_entrega\").alias(\"máximo\")\n",
        ").show()"
      ],
      "metadata": {
        "colab": {
          "base_uri": "https://localhost:8080/"
        },
        "id": "s4egSzu9ndbk",
        "outputId": "3be4b9ca-c1cd-4b6a-e4f4-3d3592291baf"
      },
      "execution_count": null,
      "outputs": [
        {
          "output_type": "stream",
          "name": "stdout",
          "text": [
            "+------------------+------+------+\n",
            "|             média|mínimo|máximo|\n",
            "+------------------+------+------+\n",
            "|12.422874976094024|     0|   210|\n",
            "+------------------+------+------+\n",
            "\n"
          ]
        }
      ]
    },
    {
      "cell_type": "code",
      "source": [
        "# Média de dias de atraso\n",
        "\n",
        "df_final = df_final.withColumn(\n",
        "    \"atraso_dias\",\n",
        "    datediff(\"order_delivered_customer_date\", \"order_estimated_delivery_date\")\n",
        ")\n",
        "\n",
        "df_final.agg(avg(\"atraso_dias\")).show()"
      ],
      "metadata": {
        "colab": {
          "base_uri": "https://localhost:8080/"
        },
        "id": "OuKDmMtFNO9S",
        "outputId": "319d371a-6504-42c6-90f6-5843005bd84b"
      },
      "execution_count": null,
      "outputs": [
        {
          "output_type": "stream",
          "name": "stdout",
          "text": [
            "+-------------------+\n",
            "|   avg(atraso_dias)|\n",
            "+-------------------+\n",
            "|-12.043326320913817|\n",
            "+-------------------+\n",
            "\n"
          ]
        }
      ]
    },
    {
      "cell_type": "code",
      "source": [
        "# Pedidos entregues com atraso por categoria de produto\n",
        "\n",
        "df_final.filter(\"atraso_dias > 0\").groupBy(\"product_category_name\") \\\n",
        "    .agg(countDistinct(\"order_id\").alias(\"num_pedidos\")) \\\n",
        "    .orderBy(\"num_pedidos\", ascending=False).show()"
      ],
      "metadata": {
        "colab": {
          "base_uri": "https://localhost:8080/"
        },
        "id": "GhY5lu-T_M8f",
        "outputId": "e067e3a2-4a07-4168-b158-84f1265b5772"
      },
      "execution_count": null,
      "outputs": [
        {
          "output_type": "stream",
          "name": "stdout",
          "text": [
            "+---------------------+-----------+\n",
            "|product_category_name|num_pedidos|\n",
            "+---------------------+-----------+\n",
            "|      cama_mesa_banho|        689|\n",
            "|         beleza_saude|        649|\n",
            "|        esporte_lazer|        495|\n",
            "|     moveis_decoracao|        449|\n",
            "| informatica_acess...|        417|\n",
            "|   relogios_presentes|        406|\n",
            "| utilidades_domest...|        308|\n",
            "|            telefonia|        291|\n",
            "|           automotivo|        278|\n",
            "|           brinquedos|        243|\n",
            "|                bebes|        226|\n",
            "|   ferramentas_jardim|        225|\n",
            "|           cool_stuff|        210|\n",
            "|           perfumaria|        202|\n",
            "|          eletronicos|        192|\n",
            "|            papelaria|        148|\n",
            "| fashion_bolsas_e_...|        102|\n",
            "|                 NULL|        101|\n",
            "|    moveis_escritorio|        101|\n",
            "|             pet_shop|         86|\n",
            "+---------------------+-----------+\n",
            "only showing top 20 rows\n",
            "\n"
          ]
        }
      ]
    },
    {
      "cell_type": "code",
      "source": [
        "# Pedidos entregues com atraso por mês\n",
        "\n",
        "df_final.filter(\"atraso_dias > 0\").groupBy(\"mes\") \\\n",
        "  .agg(countDistinct(\"order_id\").alias(\"total_pedidos\")) \\\n",
        "  .orderBy(\"mes\") \\\n",
        "  .show()"
      ],
      "metadata": {
        "colab": {
          "base_uri": "https://localhost:8080/"
        },
        "id": "8YIcTGhH_mGA",
        "outputId": "b0ff962f-0cc3-4907-9338-7f38c92e899e"
      },
      "execution_count": null,
      "outputs": [
        {
          "output_type": "stream",
          "name": "stdout",
          "text": [
            "+---+-------------+\n",
            "|mes|total_pedidos|\n",
            "+---+-------------+\n",
            "|  1|          425|\n",
            "|  2|          976|\n",
            "|  3|         1444|\n",
            "|  4|          457|\n",
            "|  5|          549|\n",
            "|  6|          166|\n",
            "|  7|          316|\n",
            "|  8|          515|\n",
            "|  9|          182|\n",
            "| 10|          189|\n",
            "| 11|          904|\n",
            "| 12|          411|\n",
            "+---+-------------+\n",
            "\n"
          ]
        }
      ]
    },
    {
      "cell_type": "markdown",
      "source": [
        "## **Localização**"
      ],
      "metadata": {
        "id": "7rh5h0UM39P3"
      }
    },
    {
      "cell_type": "code",
      "source": [
        "# Número de clientes por estado\n",
        "\n",
        "customers.groupBy(\"customer_state\") \\\n",
        "    .count() \\\n",
        "    .orderBy(\"count\", ascending=False) \\\n",
        "    .show()"
      ],
      "metadata": {
        "colab": {
          "base_uri": "https://localhost:8080/"
        },
        "id": "0KkqGyPF4EE9",
        "outputId": "44efc504-4ed1-411c-be2b-cdc498cdad0a"
      },
      "execution_count": null,
      "outputs": [
        {
          "output_type": "stream",
          "name": "stdout",
          "text": [
            "+--------------+-----+\n",
            "|customer_state|count|\n",
            "+--------------+-----+\n",
            "|            SP|41746|\n",
            "|            RJ|12852|\n",
            "|            MG|11635|\n",
            "|            RS| 5466|\n",
            "|            PR| 5045|\n",
            "|            SC| 3637|\n",
            "|            BA| 3380|\n",
            "|            DF| 2140|\n",
            "|            ES| 2033|\n",
            "|            GO| 2020|\n",
            "|            PE| 1652|\n",
            "|            CE| 1336|\n",
            "|            PA|  975|\n",
            "|            MT|  907|\n",
            "|            MA|  747|\n",
            "|            MS|  715|\n",
            "|            PB|  536|\n",
            "|            PI|  495|\n",
            "|            RN|  485|\n",
            "|            AL|  413|\n",
            "+--------------+-----+\n",
            "only showing top 20 rows\n",
            "\n"
          ]
        }
      ]
    },
    {
      "cell_type": "code",
      "source": [
        "# Número de clientes por cidade (Top 10)\n",
        "\n",
        "customers.groupBy(\"customer_city\") \\\n",
        "    .count() \\\n",
        "    .orderBy(\"count\", ascending=False) \\\n",
        "    .show(10)"
      ],
      "metadata": {
        "colab": {
          "base_uri": "https://localhost:8080/"
        },
        "id": "FkDtlUvv4EsD",
        "outputId": "a826ef2b-6a99-4bba-9105-7fcd7651da8b"
      },
      "execution_count": null,
      "outputs": [
        {
          "output_type": "stream",
          "name": "stdout",
          "text": [
            "+--------------------+-----+\n",
            "|       customer_city|count|\n",
            "+--------------------+-----+\n",
            "|           sao paulo|15540|\n",
            "|      rio de janeiro| 6882|\n",
            "|      belo horizonte| 2773|\n",
            "|            brasilia| 2131|\n",
            "|            curitiba| 1521|\n",
            "|            campinas| 1444|\n",
            "|        porto alegre| 1379|\n",
            "|            salvador| 1245|\n",
            "|           guarulhos| 1189|\n",
            "|sao bernardo do c...|  938|\n",
            "+--------------------+-----+\n",
            "only showing top 10 rows\n",
            "\n"
          ]
        }
      ]
    },
    {
      "cell_type": "code",
      "source": [
        "# Número de pedidos por estado\n",
        "\n",
        "df_final2.groupBy(\"customer_state\") \\\n",
        "    .agg(countDistinct(\"order_id\").alias(\"num_pedidos\")) \\\n",
        "    .orderBy(\"num_pedidos\", ascending=False) \\\n",
        "    .show()"
      ],
      "metadata": {
        "colab": {
          "base_uri": "https://localhost:8080/"
        },
        "collapsed": true,
        "id": "slrYnW8Y7FID",
        "outputId": "94198442-f3b2-46eb-cf61-f94124506287"
      },
      "execution_count": null,
      "outputs": [
        {
          "output_type": "stream",
          "name": "stdout",
          "text": [
            "+--------------+-----------+\n",
            "|customer_state|num_pedidos|\n",
            "+--------------+-----------+\n",
            "|            SP|      41374|\n",
            "|            RJ|      12762|\n",
            "|            MG|      11544|\n",
            "|            RS|       5432|\n",
            "|            PR|       4998|\n",
            "|            SC|       3612|\n",
            "|            BA|       3358|\n",
            "|            DF|       2125|\n",
            "|            ES|       2025|\n",
            "|            GO|       2007|\n",
            "|            PE|       1648|\n",
            "|            CE|       1327|\n",
            "|            PA|        970|\n",
            "|            MT|        903|\n",
            "|            MA|        740|\n",
            "|            MS|        709|\n",
            "|            PB|        532|\n",
            "|            PI|        493|\n",
            "|            RN|        482|\n",
            "|            AL|        411|\n",
            "+--------------+-----------+\n",
            "only showing top 20 rows\n",
            "\n"
          ]
        }
      ]
    },
    {
      "cell_type": "code",
      "source": [
        "# Número de clientes por cidade (Top 10)\n",
        "\n",
        "df_final2.groupBy(\"customer_city\") \\\n",
        "    .agg(countDistinct(\"order_id\").alias(\"num_pedidos\")) \\\n",
        "    .orderBy(\"num_pedidos\", ascending=False) \\\n",
        "    .show(10)"
      ],
      "metadata": {
        "colab": {
          "base_uri": "https://localhost:8080/"
        },
        "collapsed": true,
        "id": "EQFB8bhB7FV8",
        "outputId": "39e538fb-d8e6-483a-8574-c7d7911d00dd"
      },
      "execution_count": null,
      "outputs": [
        {
          "output_type": "stream",
          "name": "stdout",
          "text": [
            "+--------------------+-----------+\n",
            "|       customer_city|num_pedidos|\n",
            "+--------------------+-----------+\n",
            "|           sao paulo|      15402|\n",
            "|      rio de janeiro|       6834|\n",
            "|      belo horizonte|       2750|\n",
            "|            brasilia|       2116|\n",
            "|            curitiba|       1510|\n",
            "|            campinas|       1429|\n",
            "|        porto alegre|       1372|\n",
            "|            salvador|       1238|\n",
            "|           guarulhos|       1178|\n",
            "|sao bernardo do c...|        928|\n",
            "+--------------------+-----------+\n",
            "only showing top 10 rows\n",
            "\n"
          ]
        }
      ]
    },
    {
      "cell_type": "markdown",
      "source": [
        "## **Estatística**"
      ],
      "metadata": {
        "id": "pPR45yjkp-r3"
      }
    },
    {
      "cell_type": "code",
      "source": [
        "# Regressão linear para previsão de valor do pedido\n",
        "\n",
        "df = df_final.toPandas()\n",
        "\n",
        "X = df[[\"price\", \"freight_value\"]]\n",
        "y = df[\"payment_value\"]\n",
        "\n",
        "modelo = LinearRegression().fit(X, y)\n",
        "print(f\"Coeficientes: {modelo.coef_}\")\n",
        "print(f\"Intercepto: {modelo.intercept_}\")\n",
        "\n",
        "y_pred = modelo.predict(X)\n",
        "print(\"R²:\", r2_score(y, y_pred))"
      ],
      "metadata": {
        "colab": {
          "base_uri": "https://localhost:8080/"
        },
        "id": "LZ-kJIAWk6hZ",
        "outputId": "1f72d0ed-70f4-4113-cb73-facd34a9314e"
      },
      "execution_count": null,
      "outputs": [
        {
          "output_type": "stream",
          "name": "stdout",
          "text": [
            "Coeficientes: [1.02424583 1.35439528]\n",
            "Intercepto: 21.78227648947984\n",
            "R²: 0.552192481298502\n"
          ]
        }
      ]
    },
    {
      "cell_type": "code",
      "source": [
        "# Correlação do peso com o preço do frete\n",
        "\n",
        "df_final.stat.corr(\"product_weight_g\", \"freight_value\")"
      ],
      "metadata": {
        "colab": {
          "base_uri": "https://localhost:8080/"
        },
        "id": "aV-NkfR4oJ5S",
        "outputId": "063244de-a8d3-4b60-9d6d-d4ee892c87d0"
      },
      "execution_count": null,
      "outputs": [
        {
          "output_type": "execute_result",
          "data": {
            "text/plain": [
              "0.6118668681435312"
            ]
          },
          "metadata": {},
          "execution_count": 32
        }
      ]
    },
    {
      "cell_type": "markdown",
      "source": [
        "# **Exportação**"
      ],
      "metadata": {
        "id": "KWWlXgtfvdaC"
      }
    },
    {
      "cell_type": "code",
      "source": [
        "df_pedidos_categoria = df_final.groupBy(\"product_category_name\").count().orderBy(\"count\", ascending=False)\n",
        "\n",
        "df_pedidos_categoria.toPandas().to_csv(\"/content/pedidos_categoria.csv\", index=False, encoding=\"utf-8\")\n",
        "\n",
        "from google.colab import files\n",
        "files.download(\"/content/pedidos_categoria.csv\")"
      ],
      "metadata": {
        "colab": {
          "base_uri": "https://localhost:8080/",
          "height": 17
        },
        "id": "X2hOLegWvcjm",
        "outputId": "0303d458-2a7c-4b54-a115-7354be4b99f2"
      },
      "execution_count": null,
      "outputs": [
        {
          "output_type": "display_data",
          "data": {
            "text/plain": [
              "<IPython.core.display.Javascript object>"
            ],
            "application/javascript": [
              "\n",
              "    async function download(id, filename, size) {\n",
              "      if (!google.colab.kernel.accessAllowed) {\n",
              "        return;\n",
              "      }\n",
              "      const div = document.createElement('div');\n",
              "      const label = document.createElement('label');\n",
              "      label.textContent = `Downloading \"${filename}\": `;\n",
              "      div.appendChild(label);\n",
              "      const progress = document.createElement('progress');\n",
              "      progress.max = size;\n",
              "      div.appendChild(progress);\n",
              "      document.body.appendChild(div);\n",
              "\n",
              "      const buffers = [];\n",
              "      let downloaded = 0;\n",
              "\n",
              "      const channel = await google.colab.kernel.comms.open(id);\n",
              "      // Send a message to notify the kernel that we're ready.\n",
              "      channel.send({})\n",
              "\n",
              "      for await (const message of channel.messages) {\n",
              "        // Send a message to notify the kernel that we're ready.\n",
              "        channel.send({})\n",
              "        if (message.buffers) {\n",
              "          for (const buffer of message.buffers) {\n",
              "            buffers.push(buffer);\n",
              "            downloaded += buffer.byteLength;\n",
              "            progress.value = downloaded;\n",
              "          }\n",
              "        }\n",
              "      }\n",
              "      const blob = new Blob(buffers, {type: 'application/binary'});\n",
              "      const a = document.createElement('a');\n",
              "      a.href = window.URL.createObjectURL(blob);\n",
              "      a.download = filename;\n",
              "      div.appendChild(a);\n",
              "      a.click();\n",
              "      div.remove();\n",
              "    }\n",
              "  "
            ]
          },
          "metadata": {}
        },
        {
          "output_type": "display_data",
          "data": {
            "text/plain": [
              "<IPython.core.display.Javascript object>"
            ],
            "application/javascript": [
              "download(\"download_2a62bcd1-fdad-4ad9-8f1f-b053bef3df1f\", \"pedidos_categoria.csv\", 1657)"
            ]
          },
          "metadata": {}
        }
      ]
    },
    {
      "cell_type": "code",
      "source": [
        "df_pedidos_pagamento = payments.groupBy(\"payment_type\").count().orderBy(\"count\", ascending=False)\n",
        "\n",
        "df_pedidos_pagamento.toPandas().to_csv(\"/content/pedidos_pagamento.csv\", index=False, encoding=\"utf-8\")\n",
        "\n",
        "from google.colab import files\n",
        "files.download(\"/content/pedidos_pagamento.csv\")"
      ],
      "metadata": {
        "colab": {
          "base_uri": "https://localhost:8080/",
          "height": 17
        },
        "id": "uEN6bB4Sxs_l",
        "outputId": "2e99ee5c-94fc-4a8b-fe79-254f99a3c52a"
      },
      "execution_count": null,
      "outputs": [
        {
          "output_type": "display_data",
          "data": {
            "text/plain": [
              "<IPython.core.display.Javascript object>"
            ],
            "application/javascript": [
              "\n",
              "    async function download(id, filename, size) {\n",
              "      if (!google.colab.kernel.accessAllowed) {\n",
              "        return;\n",
              "      }\n",
              "      const div = document.createElement('div');\n",
              "      const label = document.createElement('label');\n",
              "      label.textContent = `Downloading \"${filename}\": `;\n",
              "      div.appendChild(label);\n",
              "      const progress = document.createElement('progress');\n",
              "      progress.max = size;\n",
              "      div.appendChild(progress);\n",
              "      document.body.appendChild(div);\n",
              "\n",
              "      const buffers = [];\n",
              "      let downloaded = 0;\n",
              "\n",
              "      const channel = await google.colab.kernel.comms.open(id);\n",
              "      // Send a message to notify the kernel that we're ready.\n",
              "      channel.send({})\n",
              "\n",
              "      for await (const message of channel.messages) {\n",
              "        // Send a message to notify the kernel that we're ready.\n",
              "        channel.send({})\n",
              "        if (message.buffers) {\n",
              "          for (const buffer of message.buffers) {\n",
              "            buffers.push(buffer);\n",
              "            downloaded += buffer.byteLength;\n",
              "            progress.value = downloaded;\n",
              "          }\n",
              "        }\n",
              "      }\n",
              "      const blob = new Blob(buffers, {type: 'application/binary'});\n",
              "      const a = document.createElement('a');\n",
              "      a.href = window.URL.createObjectURL(blob);\n",
              "      a.download = filename;\n",
              "      div.appendChild(a);\n",
              "      a.click();\n",
              "      div.remove();\n",
              "    }\n",
              "  "
            ]
          },
          "metadata": {}
        },
        {
          "output_type": "display_data",
          "data": {
            "text/plain": [
              "<IPython.core.display.Javascript object>"
            ],
            "application/javascript": [
              "download(\"download_ca5008ca-5a56-4be9-9b1a-aad71be4b56a\", \"pedidos_pagamento.csv\", 93)"
            ]
          },
          "metadata": {}
        }
      ]
    },
    {
      "cell_type": "code",
      "source": [
        "df_total_categoria = df_final.groupBy(\"product_category_name\") \\\n",
        "    .agg(format_number(sum(\"payment_value\"), 2).alias(\"total_pago\")) \\\n",
        "    .orderBy(\"total_pago\", ascending=False)\n",
        "\n",
        "df_total_categoria.toPandas().to_csv(\"/content/total_categoria.csv\", index=False, encoding=\"utf-8\")\n",
        "\n",
        "from google.colab import files\n",
        "files.download(\"/content/total_categoria.csv\")"
      ],
      "metadata": {
        "colab": {
          "base_uri": "https://localhost:8080/",
          "height": 17
        },
        "id": "ag-wuA2WyUxu",
        "outputId": "723d15ae-3d92-4d00-ea82-e08d21b82295"
      },
      "execution_count": null,
      "outputs": [
        {
          "output_type": "display_data",
          "data": {
            "text/plain": [
              "<IPython.core.display.Javascript object>"
            ],
            "application/javascript": [
              "\n",
              "    async function download(id, filename, size) {\n",
              "      if (!google.colab.kernel.accessAllowed) {\n",
              "        return;\n",
              "      }\n",
              "      const div = document.createElement('div');\n",
              "      const label = document.createElement('label');\n",
              "      label.textContent = `Downloading \"${filename}\": `;\n",
              "      div.appendChild(label);\n",
              "      const progress = document.createElement('progress');\n",
              "      progress.max = size;\n",
              "      div.appendChild(progress);\n",
              "      document.body.appendChild(div);\n",
              "\n",
              "      const buffers = [];\n",
              "      let downloaded = 0;\n",
              "\n",
              "      const channel = await google.colab.kernel.comms.open(id);\n",
              "      // Send a message to notify the kernel that we're ready.\n",
              "      channel.send({})\n",
              "\n",
              "      for await (const message of channel.messages) {\n",
              "        // Send a message to notify the kernel that we're ready.\n",
              "        channel.send({})\n",
              "        if (message.buffers) {\n",
              "          for (const buffer of message.buffers) {\n",
              "            buffers.push(buffer);\n",
              "            downloaded += buffer.byteLength;\n",
              "            progress.value = downloaded;\n",
              "          }\n",
              "        }\n",
              "      }\n",
              "      const blob = new Blob(buffers, {type: 'application/binary'});\n",
              "      const a = document.createElement('a');\n",
              "      a.href = window.URL.createObjectURL(blob);\n",
              "      a.download = filename;\n",
              "      div.appendChild(a);\n",
              "      a.click();\n",
              "      div.remove();\n",
              "    }\n",
              "  "
            ]
          },
          "metadata": {}
        },
        {
          "output_type": "display_data",
          "data": {
            "text/plain": [
              "<IPython.core.display.Javascript object>"
            ],
            "application/javascript": [
              "download(\"download_568b54c9-a489-4731-b10d-8b42efb9b82d\", \"total_categoria.csv\", 2272)"
            ]
          },
          "metadata": {}
        }
      ]
    },
    {
      "cell_type": "code",
      "source": [
        "df_total_pagamento = payments.groupBy(\"payment_type\") \\\n",
        "    .agg(format_number(sum(\"payment_value\"), 2).alias(\"total_pago\"))\n",
        "\n",
        "df_total_pagamento.toPandas().to_csv(\"/content/total_pagamento.csv\", index=False, encoding=\"utf-8\")\n",
        "\n",
        "from google.colab import files\n",
        "files.download(\"/content/total_pagamento.csv\")"
      ],
      "metadata": {
        "colab": {
          "base_uri": "https://localhost:8080/",
          "height": 17
        },
        "id": "jyH3W04Ay_NF",
        "outputId": "3b7e7a0e-452d-4ad8-d335-43f9a613c7b6"
      },
      "execution_count": null,
      "outputs": [
        {
          "output_type": "display_data",
          "data": {
            "text/plain": [
              "<IPython.core.display.Javascript object>"
            ],
            "application/javascript": [
              "\n",
              "    async function download(id, filename, size) {\n",
              "      if (!google.colab.kernel.accessAllowed) {\n",
              "        return;\n",
              "      }\n",
              "      const div = document.createElement('div');\n",
              "      const label = document.createElement('label');\n",
              "      label.textContent = `Downloading \"${filename}\": `;\n",
              "      div.appendChild(label);\n",
              "      const progress = document.createElement('progress');\n",
              "      progress.max = size;\n",
              "      div.appendChild(progress);\n",
              "      document.body.appendChild(div);\n",
              "\n",
              "      const buffers = [];\n",
              "      let downloaded = 0;\n",
              "\n",
              "      const channel = await google.colab.kernel.comms.open(id);\n",
              "      // Send a message to notify the kernel that we're ready.\n",
              "      channel.send({})\n",
              "\n",
              "      for await (const message of channel.messages) {\n",
              "        // Send a message to notify the kernel that we're ready.\n",
              "        channel.send({})\n",
              "        if (message.buffers) {\n",
              "          for (const buffer of message.buffers) {\n",
              "            buffers.push(buffer);\n",
              "            downloaded += buffer.byteLength;\n",
              "            progress.value = downloaded;\n",
              "          }\n",
              "        }\n",
              "      }\n",
              "      const blob = new Blob(buffers, {type: 'application/binary'});\n",
              "      const a = document.createElement('a');\n",
              "      a.href = window.URL.createObjectURL(blob);\n",
              "      a.download = filename;\n",
              "      div.appendChild(a);\n",
              "      a.click();\n",
              "      div.remove();\n",
              "    }\n",
              "  "
            ]
          },
          "metadata": {}
        },
        {
          "output_type": "display_data",
          "data": {
            "text/plain": [
              "<IPython.core.display.Javascript object>"
            ],
            "application/javascript": [
              "download(\"download_6c9a1557-d304-42b1-9a64-bf68b66c6b62\", \"total_pagamento.csv\", 136)"
            ]
          },
          "metadata": {}
        }
      ]
    },
    {
      "cell_type": "code",
      "source": [
        "df_ticket_categoria = df_final.groupBy(\"product_category_name\").agg(avg(\"payment_value\").alias(\"media_categoria\")).orderBy(\"media_categoria\", ascending=False)\n",
        "\n",
        "df_ticket_categoria.toPandas().to_csv(\"/content/ticket_categoria.csv\", index=False, encoding=\"utf-8\")\n",
        "\n",
        "from google.colab import files\n",
        "files.download(\"/content/ticket_categoria.csv\")"
      ],
      "metadata": {
        "colab": {
          "base_uri": "https://localhost:8080/",
          "height": 17
        },
        "id": "_qkWshUhzQY6",
        "outputId": "308a9277-08ef-4314-f4ba-d150e36345dc"
      },
      "execution_count": null,
      "outputs": [
        {
          "output_type": "display_data",
          "data": {
            "text/plain": [
              "<IPython.core.display.Javascript object>"
            ],
            "application/javascript": [
              "\n",
              "    async function download(id, filename, size) {\n",
              "      if (!google.colab.kernel.accessAllowed) {\n",
              "        return;\n",
              "      }\n",
              "      const div = document.createElement('div');\n",
              "      const label = document.createElement('label');\n",
              "      label.textContent = `Downloading \"${filename}\": `;\n",
              "      div.appendChild(label);\n",
              "      const progress = document.createElement('progress');\n",
              "      progress.max = size;\n",
              "      div.appendChild(progress);\n",
              "      document.body.appendChild(div);\n",
              "\n",
              "      const buffers = [];\n",
              "      let downloaded = 0;\n",
              "\n",
              "      const channel = await google.colab.kernel.comms.open(id);\n",
              "      // Send a message to notify the kernel that we're ready.\n",
              "      channel.send({})\n",
              "\n",
              "      for await (const message of channel.messages) {\n",
              "        // Send a message to notify the kernel that we're ready.\n",
              "        channel.send({})\n",
              "        if (message.buffers) {\n",
              "          for (const buffer of message.buffers) {\n",
              "            buffers.push(buffer);\n",
              "            downloaded += buffer.byteLength;\n",
              "            progress.value = downloaded;\n",
              "          }\n",
              "        }\n",
              "      }\n",
              "      const blob = new Blob(buffers, {type: 'application/binary'});\n",
              "      const a = document.createElement('a');\n",
              "      a.href = window.URL.createObjectURL(blob);\n",
              "      a.download = filename;\n",
              "      div.appendChild(a);\n",
              "      a.click();\n",
              "      div.remove();\n",
              "    }\n",
              "  "
            ]
          },
          "metadata": {}
        },
        {
          "output_type": "display_data",
          "data": {
            "text/plain": [
              "<IPython.core.display.Javascript object>"
            ],
            "application/javascript": [
              "download(\"download_34fe623d-5044-491a-8373-2c0433c6d0f9\", \"ticket_categoria.csv\", 2729)"
            ]
          },
          "metadata": {}
        }
      ]
    },
    {
      "cell_type": "code",
      "source": [
        "df_media_parcelas = df_final.groupBy(\"product_category_name\").agg(avg(\"payment_installments\").alias(\"media_parcelas\")).orderBy(\"media_parcelas\", ascending=False)\n",
        "\n",
        "df_media_parcelas.toPandas().to_csv(\"/content/media_parcelas.csv\", index=False, encoding=\"utf-8\")\n",
        "\n",
        "from google.colab import files\n",
        "files.download(\"/content/media_parcelas.csv\")"
      ],
      "metadata": {
        "colab": {
          "base_uri": "https://localhost:8080/",
          "height": 17
        },
        "id": "z2XnmU35zeG7",
        "outputId": "fe9ed9e2-5207-494e-8a1d-69d8ae144f24"
      },
      "execution_count": null,
      "outputs": [
        {
          "output_type": "display_data",
          "data": {
            "text/plain": [
              "<IPython.core.display.Javascript object>"
            ],
            "application/javascript": [
              "\n",
              "    async function download(id, filename, size) {\n",
              "      if (!google.colab.kernel.accessAllowed) {\n",
              "        return;\n",
              "      }\n",
              "      const div = document.createElement('div');\n",
              "      const label = document.createElement('label');\n",
              "      label.textContent = `Downloading \"${filename}\": `;\n",
              "      div.appendChild(label);\n",
              "      const progress = document.createElement('progress');\n",
              "      progress.max = size;\n",
              "      div.appendChild(progress);\n",
              "      document.body.appendChild(div);\n",
              "\n",
              "      const buffers = [];\n",
              "      let downloaded = 0;\n",
              "\n",
              "      const channel = await google.colab.kernel.comms.open(id);\n",
              "      // Send a message to notify the kernel that we're ready.\n",
              "      channel.send({})\n",
              "\n",
              "      for await (const message of channel.messages) {\n",
              "        // Send a message to notify the kernel that we're ready.\n",
              "        channel.send({})\n",
              "        if (message.buffers) {\n",
              "          for (const buffer of message.buffers) {\n",
              "            buffers.push(buffer);\n",
              "            downloaded += buffer.byteLength;\n",
              "            progress.value = downloaded;\n",
              "          }\n",
              "        }\n",
              "      }\n",
              "      const blob = new Blob(buffers, {type: 'application/binary'});\n",
              "      const a = document.createElement('a');\n",
              "      a.href = window.URL.createObjectURL(blob);\n",
              "      a.download = filename;\n",
              "      div.appendChild(a);\n",
              "      a.click();\n",
              "      div.remove();\n",
              "    }\n",
              "  "
            ]
          },
          "metadata": {}
        },
        {
          "output_type": "display_data",
          "data": {
            "text/plain": [
              "<IPython.core.display.Javascript object>"
            ],
            "application/javascript": [
              "download(\"download_47bebf0d-dfe1-437c-b07d-878bc90afa26\", \"media_parcelas.csv\", 2608)"
            ]
          },
          "metadata": {}
        }
      ]
    },
    {
      "cell_type": "code",
      "source": [
        "df_pedidos_tempo = orders.groupBy(\"ano\", \"mes\") \\\n",
        "  .agg(countDistinct(\"order_id\").alias(\"total_pedidos\")) \\\n",
        "  .orderBy(\"ano\", \"mes\")\n",
        "\n",
        "df_pedidos_tempo.toPandas().to_csv(\"/content/pedidos_tempo.csv\", index=False, encoding=\"utf-8\")\n",
        "\n",
        "from google.colab import files\n",
        "files.download(\"/content/pedidos_tempo.csv\")"
      ],
      "metadata": {
        "colab": {
          "base_uri": "https://localhost:8080/",
          "height": 17
        },
        "id": "4UiUnOpezs2S",
        "outputId": "5994d911-350f-47a7-f260-aa8961d65376"
      },
      "execution_count": null,
      "outputs": [
        {
          "output_type": "display_data",
          "data": {
            "text/plain": [
              "<IPython.core.display.Javascript object>"
            ],
            "application/javascript": [
              "\n",
              "    async function download(id, filename, size) {\n",
              "      if (!google.colab.kernel.accessAllowed) {\n",
              "        return;\n",
              "      }\n",
              "      const div = document.createElement('div');\n",
              "      const label = document.createElement('label');\n",
              "      label.textContent = `Downloading \"${filename}\": `;\n",
              "      div.appendChild(label);\n",
              "      const progress = document.createElement('progress');\n",
              "      progress.max = size;\n",
              "      div.appendChild(progress);\n",
              "      document.body.appendChild(div);\n",
              "\n",
              "      const buffers = [];\n",
              "      let downloaded = 0;\n",
              "\n",
              "      const channel = await google.colab.kernel.comms.open(id);\n",
              "      // Send a message to notify the kernel that we're ready.\n",
              "      channel.send({})\n",
              "\n",
              "      for await (const message of channel.messages) {\n",
              "        // Send a message to notify the kernel that we're ready.\n",
              "        channel.send({})\n",
              "        if (message.buffers) {\n",
              "          for (const buffer of message.buffers) {\n",
              "            buffers.push(buffer);\n",
              "            downloaded += buffer.byteLength;\n",
              "            progress.value = downloaded;\n",
              "          }\n",
              "        }\n",
              "      }\n",
              "      const blob = new Blob(buffers, {type: 'application/binary'});\n",
              "      const a = document.createElement('a');\n",
              "      a.href = window.URL.createObjectURL(blob);\n",
              "      a.download = filename;\n",
              "      div.appendChild(a);\n",
              "      a.click();\n",
              "      div.remove();\n",
              "    }\n",
              "  "
            ]
          },
          "metadata": {}
        },
        {
          "output_type": "display_data",
          "data": {
            "text/plain": [
              "<IPython.core.display.Javascript object>"
            ],
            "application/javascript": [
              "download(\"download_0d76568e-b49e-4923-ad1c-9d5ed8dc8730\", \"pedidos_tempo.csv\", 315)"
            ]
          },
          "metadata": {}
        }
      ]
    },
    {
      "cell_type": "code",
      "source": [
        "df_pedidos_hora = df_final.groupBy(\"hora\").count().orderBy(\"hora\")\n",
        "\n",
        "df_pedidos_hora.toPandas().to_csv(\"/content/pedidos_hora.csv\", index=False, encoding=\"utf-8\")\n",
        "\n",
        "from google.colab import files\n",
        "files.download(\"/content/pedidos_hora.csv\")"
      ],
      "metadata": {
        "colab": {
          "base_uri": "https://localhost:8080/",
          "height": 17
        },
        "id": "gGXdpkQa0a20",
        "outputId": "0b0a07a5-4724-419c-da75-8b199c9946e4"
      },
      "execution_count": null,
      "outputs": [
        {
          "output_type": "display_data",
          "data": {
            "text/plain": [
              "<IPython.core.display.Javascript object>"
            ],
            "application/javascript": [
              "\n",
              "    async function download(id, filename, size) {\n",
              "      if (!google.colab.kernel.accessAllowed) {\n",
              "        return;\n",
              "      }\n",
              "      const div = document.createElement('div');\n",
              "      const label = document.createElement('label');\n",
              "      label.textContent = `Downloading \"${filename}\": `;\n",
              "      div.appendChild(label);\n",
              "      const progress = document.createElement('progress');\n",
              "      progress.max = size;\n",
              "      div.appendChild(progress);\n",
              "      document.body.appendChild(div);\n",
              "\n",
              "      const buffers = [];\n",
              "      let downloaded = 0;\n",
              "\n",
              "      const channel = await google.colab.kernel.comms.open(id);\n",
              "      // Send a message to notify the kernel that we're ready.\n",
              "      channel.send({})\n",
              "\n",
              "      for await (const message of channel.messages) {\n",
              "        // Send a message to notify the kernel that we're ready.\n",
              "        channel.send({})\n",
              "        if (message.buffers) {\n",
              "          for (const buffer of message.buffers) {\n",
              "            buffers.push(buffer);\n",
              "            downloaded += buffer.byteLength;\n",
              "            progress.value = downloaded;\n",
              "          }\n",
              "        }\n",
              "      }\n",
              "      const blob = new Blob(buffers, {type: 'application/binary'});\n",
              "      const a = document.createElement('a');\n",
              "      a.href = window.URL.createObjectURL(blob);\n",
              "      a.download = filename;\n",
              "      div.appendChild(a);\n",
              "      a.click();\n",
              "      div.remove();\n",
              "    }\n",
              "  "
            ]
          },
          "metadata": {}
        },
        {
          "output_type": "display_data",
          "data": {
            "text/plain": [
              "<IPython.core.display.Javascript object>"
            ],
            "application/javascript": [
              "download(\"download_a9506b76-1eba-40f8-9229-1efcbbe72930\", \"pedidos_hora.csv\", 188)"
            ]
          },
          "metadata": {}
        }
      ]
    },
    {
      "cell_type": "code",
      "source": [
        "df_pedidos_dias = df_final.withColumn(\"dia_semana\", dayofweek(\"order_purchase_timestamp\"))\n",
        "df_pedidos_dias = df_final.groupBy(\"dia_semana\").count().orderBy(\"dia_semana\")\n",
        "\n",
        "df_pedidos_dias.toPandas().to_csv(\"/content/pedidos_dias.csv\", index=False, encoding=\"utf-8\")\n",
        "\n",
        "from google.colab import files\n",
        "files.download(\"/content/pedidos_dias.csv\")"
      ],
      "metadata": {
        "colab": {
          "base_uri": "https://localhost:8080/",
          "height": 17
        },
        "id": "a13XyjAD0iCF",
        "outputId": "96ec5673-35f5-4fad-8f33-384ea04d0d25"
      },
      "execution_count": null,
      "outputs": [
        {
          "output_type": "display_data",
          "data": {
            "text/plain": [
              "<IPython.core.display.Javascript object>"
            ],
            "application/javascript": [
              "\n",
              "    async function download(id, filename, size) {\n",
              "      if (!google.colab.kernel.accessAllowed) {\n",
              "        return;\n",
              "      }\n",
              "      const div = document.createElement('div');\n",
              "      const label = document.createElement('label');\n",
              "      label.textContent = `Downloading \"${filename}\": `;\n",
              "      div.appendChild(label);\n",
              "      const progress = document.createElement('progress');\n",
              "      progress.max = size;\n",
              "      div.appendChild(progress);\n",
              "      document.body.appendChild(div);\n",
              "\n",
              "      const buffers = [];\n",
              "      let downloaded = 0;\n",
              "\n",
              "      const channel = await google.colab.kernel.comms.open(id);\n",
              "      // Send a message to notify the kernel that we're ready.\n",
              "      channel.send({})\n",
              "\n",
              "      for await (const message of channel.messages) {\n",
              "        // Send a message to notify the kernel that we're ready.\n",
              "        channel.send({})\n",
              "        if (message.buffers) {\n",
              "          for (const buffer of message.buffers) {\n",
              "            buffers.push(buffer);\n",
              "            downloaded += buffer.byteLength;\n",
              "            progress.value = downloaded;\n",
              "          }\n",
              "        }\n",
              "      }\n",
              "      const blob = new Blob(buffers, {type: 'application/binary'});\n",
              "      const a = document.createElement('a');\n",
              "      a.href = window.URL.createObjectURL(blob);\n",
              "      a.download = filename;\n",
              "      div.appendChild(a);\n",
              "      a.click();\n",
              "      div.remove();\n",
              "    }\n",
              "  "
            ]
          },
          "metadata": {}
        },
        {
          "output_type": "display_data",
          "data": {
            "text/plain": [
              "<IPython.core.display.Javascript object>"
            ],
            "application/javascript": [
              "download(\"download_8dc5324d-82ae-4fe0-9399-7e9ad51cfbe2\", \"pedidos_dias.csv\", 73)"
            ]
          },
          "metadata": {}
        }
      ]
    },
    {
      "cell_type": "code",
      "source": [
        "df_clientes_estado = customers.groupBy(\"customer_state\") \\\n",
        "    .count() \\\n",
        "    .orderBy(\"count\", ascending=False)\n",
        "\n",
        "df_clientes_estado.toPandas().to_csv(\"/content/clientes_estado.csv\", index=False, encoding=\"utf-8\")\n",
        "\n",
        "from google.colab import files\n",
        "files.download(\"/content/clientes_estado.csv\")"
      ],
      "metadata": {
        "colab": {
          "base_uri": "https://localhost:8080/",
          "height": 17
        },
        "id": "vapoPEIy_Me6",
        "outputId": "aa753630-ef14-4d63-be43-8b2a24837067"
      },
      "execution_count": null,
      "outputs": [
        {
          "output_type": "display_data",
          "data": {
            "text/plain": [
              "<IPython.core.display.Javascript object>"
            ],
            "application/javascript": [
              "\n",
              "    async function download(id, filename, size) {\n",
              "      if (!google.colab.kernel.accessAllowed) {\n",
              "        return;\n",
              "      }\n",
              "      const div = document.createElement('div');\n",
              "      const label = document.createElement('label');\n",
              "      label.textContent = `Downloading \"${filename}\": `;\n",
              "      div.appendChild(label);\n",
              "      const progress = document.createElement('progress');\n",
              "      progress.max = size;\n",
              "      div.appendChild(progress);\n",
              "      document.body.appendChild(div);\n",
              "\n",
              "      const buffers = [];\n",
              "      let downloaded = 0;\n",
              "\n",
              "      const channel = await google.colab.kernel.comms.open(id);\n",
              "      // Send a message to notify the kernel that we're ready.\n",
              "      channel.send({})\n",
              "\n",
              "      for await (const message of channel.messages) {\n",
              "        // Send a message to notify the kernel that we're ready.\n",
              "        channel.send({})\n",
              "        if (message.buffers) {\n",
              "          for (const buffer of message.buffers) {\n",
              "            buffers.push(buffer);\n",
              "            downloaded += buffer.byteLength;\n",
              "            progress.value = downloaded;\n",
              "          }\n",
              "        }\n",
              "      }\n",
              "      const blob = new Blob(buffers, {type: 'application/binary'});\n",
              "      const a = document.createElement('a');\n",
              "      a.href = window.URL.createObjectURL(blob);\n",
              "      a.download = filename;\n",
              "      div.appendChild(a);\n",
              "      a.click();\n",
              "      div.remove();\n",
              "    }\n",
              "  "
            ]
          },
          "metadata": {}
        },
        {
          "output_type": "display_data",
          "data": {
            "text/plain": [
              "<IPython.core.display.Javascript object>"
            ],
            "application/javascript": [
              "download(\"download_b5c61cd3-0b12-46f4-8def-9b6e35f13f87\", \"clientes_estado.csv\", 222)"
            ]
          },
          "metadata": {}
        }
      ]
    },
    {
      "cell_type": "code",
      "source": [
        "df_clientes_cidade = customers.groupBy(\"customer_city\") \\\n",
        "    .count() \\\n",
        "    .orderBy(\"count\", ascending=False)\n",
        "\n",
        "df_clientes_cidade.toPandas().to_csv(\"/content/clientes_cidade.csv\", index=False, encoding=\"utf-8\")\n",
        "\n",
        "from google.colab import files\n",
        "files.download(\"/content/clientes_cidade.csv\")"
      ],
      "metadata": {
        "colab": {
          "base_uri": "https://localhost:8080/",
          "height": 17
        },
        "id": "RRYvbpx2_Y7g",
        "outputId": "d693a4f3-6baa-4ea5-881d-36823164542c"
      },
      "execution_count": null,
      "outputs": [
        {
          "output_type": "display_data",
          "data": {
            "text/plain": [
              "<IPython.core.display.Javascript object>"
            ],
            "application/javascript": [
              "\n",
              "    async function download(id, filename, size) {\n",
              "      if (!google.colab.kernel.accessAllowed) {\n",
              "        return;\n",
              "      }\n",
              "      const div = document.createElement('div');\n",
              "      const label = document.createElement('label');\n",
              "      label.textContent = `Downloading \"${filename}\": `;\n",
              "      div.appendChild(label);\n",
              "      const progress = document.createElement('progress');\n",
              "      progress.max = size;\n",
              "      div.appendChild(progress);\n",
              "      document.body.appendChild(div);\n",
              "\n",
              "      const buffers = [];\n",
              "      let downloaded = 0;\n",
              "\n",
              "      const channel = await google.colab.kernel.comms.open(id);\n",
              "      // Send a message to notify the kernel that we're ready.\n",
              "      channel.send({})\n",
              "\n",
              "      for await (const message of channel.messages) {\n",
              "        // Send a message to notify the kernel that we're ready.\n",
              "        channel.send({})\n",
              "        if (message.buffers) {\n",
              "          for (const buffer of message.buffers) {\n",
              "            buffers.push(buffer);\n",
              "            downloaded += buffer.byteLength;\n",
              "            progress.value = downloaded;\n",
              "          }\n",
              "        }\n",
              "      }\n",
              "      const blob = new Blob(buffers, {type: 'application/binary'});\n",
              "      const a = document.createElement('a');\n",
              "      a.href = window.URL.createObjectURL(blob);\n",
              "      a.download = filename;\n",
              "      div.appendChild(a);\n",
              "      a.click();\n",
              "      div.remove();\n",
              "    }\n",
              "  "
            ]
          },
          "metadata": {}
        },
        {
          "output_type": "display_data",
          "data": {
            "text/plain": [
              "<IPython.core.display.Javascript object>"
            ],
            "application/javascript": [
              "download(\"download_b9d72a1e-b11a-45e0-9e1b-3b543e109290\", \"clientes_cidade.csv\", 60048)"
            ]
          },
          "metadata": {}
        }
      ]
    },
    {
      "cell_type": "code",
      "source": [
        "df_total_pago = payments.agg(\n",
        "    format_number(sum(\"payment_value\"), 2).alias(\"total_pago\")\n",
        ")\n",
        "\n",
        "df_total_pago.toPandas().to_csv(\"/content/total_pago.csv\", index=False, encoding=\"utf-8\")\n",
        "\n",
        "from google.colab import files\n",
        "files.download(\"/content/total_pago.csv\")"
      ],
      "metadata": {
        "colab": {
          "base_uri": "https://localhost:8080/",
          "height": 17
        },
        "id": "G3r9-FqfA1X6",
        "outputId": "b62f8201-a0a5-4dd3-9cba-038e58d6980d"
      },
      "execution_count": null,
      "outputs": [
        {
          "output_type": "display_data",
          "data": {
            "text/plain": [
              "<IPython.core.display.Javascript object>"
            ],
            "application/javascript": [
              "\n",
              "    async function download(id, filename, size) {\n",
              "      if (!google.colab.kernel.accessAllowed) {\n",
              "        return;\n",
              "      }\n",
              "      const div = document.createElement('div');\n",
              "      const label = document.createElement('label');\n",
              "      label.textContent = `Downloading \"${filename}\": `;\n",
              "      div.appendChild(label);\n",
              "      const progress = document.createElement('progress');\n",
              "      progress.max = size;\n",
              "      div.appendChild(progress);\n",
              "      document.body.appendChild(div);\n",
              "\n",
              "      const buffers = [];\n",
              "      let downloaded = 0;\n",
              "\n",
              "      const channel = await google.colab.kernel.comms.open(id);\n",
              "      // Send a message to notify the kernel that we're ready.\n",
              "      channel.send({})\n",
              "\n",
              "      for await (const message of channel.messages) {\n",
              "        // Send a message to notify the kernel that we're ready.\n",
              "        channel.send({})\n",
              "        if (message.buffers) {\n",
              "          for (const buffer of message.buffers) {\n",
              "            buffers.push(buffer);\n",
              "            downloaded += buffer.byteLength;\n",
              "            progress.value = downloaded;\n",
              "          }\n",
              "        }\n",
              "      }\n",
              "      const blob = new Blob(buffers, {type: 'application/binary'});\n",
              "      const a = document.createElement('a');\n",
              "      a.href = window.URL.createObjectURL(blob);\n",
              "      a.download = filename;\n",
              "      div.appendChild(a);\n",
              "      a.click();\n",
              "      div.remove();\n",
              "    }\n",
              "  "
            ]
          },
          "metadata": {}
        },
        {
          "output_type": "display_data",
          "data": {
            "text/plain": [
              "<IPython.core.display.Javascript object>"
            ],
            "application/javascript": [
              "download(\"download_e3d75267-6672-4237-8814-1e811ff0a557\", \"total_pago.csv\", 27)"
            ]
          },
          "metadata": {}
        }
      ]
    },
    {
      "cell_type": "code",
      "source": [
        "df_base_tratada = df_final2.groupBy(\"order_id\").agg(\n",
        "    first(\"order_purchase_timestamp\").alias(\"data_pedido\"),\n",
        "    first(\"customer_state\").alias(\"estado\"),\n",
        "    first(\"customer_city\").alias(\"cidade\"),\n",
        "    sum(\"payment_value\").alias(\"valor_pago\"),\n",
        "    sum(\"freight_value\").alias(\"frete\"),\n",
        "    first(\"product_category_name\").alias(\"categoria\"),\n",
        "    count(\"product_id\").alias(\"qtd_itens\"),\n",
        "    first(\"ano\").alias(\"ano\"),\n",
        "    first(\"mes\").alias(\"mes\"),\n",
        ")\n",
        "\n",
        "df_base_tratada.toPandas().to_csv(\"/content/base_tratada.csv\", index=False, encoding=\"utf-8\")\n",
        "\n",
        "from google.colab import files\n",
        "files.download(\"/content/base_tratada.csv\")"
      ],
      "metadata": {
        "colab": {
          "base_uri": "https://localhost:8080/",
          "height": 17
        },
        "id": "uGdB-Bbys8Y-",
        "outputId": "0a113358-bb25-47b6-db93-f8d6d775bdfb"
      },
      "execution_count": null,
      "outputs": [
        {
          "output_type": "display_data",
          "data": {
            "text/plain": [
              "<IPython.core.display.Javascript object>"
            ],
            "application/javascript": [
              "\n",
              "    async function download(id, filename, size) {\n",
              "      if (!google.colab.kernel.accessAllowed) {\n",
              "        return;\n",
              "      }\n",
              "      const div = document.createElement('div');\n",
              "      const label = document.createElement('label');\n",
              "      label.textContent = `Downloading \"${filename}\": `;\n",
              "      div.appendChild(label);\n",
              "      const progress = document.createElement('progress');\n",
              "      progress.max = size;\n",
              "      div.appendChild(progress);\n",
              "      document.body.appendChild(div);\n",
              "\n",
              "      const buffers = [];\n",
              "      let downloaded = 0;\n",
              "\n",
              "      const channel = await google.colab.kernel.comms.open(id);\n",
              "      // Send a message to notify the kernel that we're ready.\n",
              "      channel.send({})\n",
              "\n",
              "      for await (const message of channel.messages) {\n",
              "        // Send a message to notify the kernel that we're ready.\n",
              "        channel.send({})\n",
              "        if (message.buffers) {\n",
              "          for (const buffer of message.buffers) {\n",
              "            buffers.push(buffer);\n",
              "            downloaded += buffer.byteLength;\n",
              "            progress.value = downloaded;\n",
              "          }\n",
              "        }\n",
              "      }\n",
              "      const blob = new Blob(buffers, {type: 'application/binary'});\n",
              "      const a = document.createElement('a');\n",
              "      a.href = window.URL.createObjectURL(blob);\n",
              "      a.download = filename;\n",
              "      div.appendChild(a);\n",
              "      a.click();\n",
              "      div.remove();\n",
              "    }\n",
              "  "
            ]
          },
          "metadata": {}
        },
        {
          "output_type": "display_data",
          "data": {
            "text/plain": [
              "<IPython.core.display.Javascript object>"
            ],
            "application/javascript": [
              "download(\"download_0bd45db0-56ba-4927-a461-fa2530197393\", \"base_tratada.csv\", 10309237)"
            ]
          },
          "metadata": {}
        }
      ]
    },
    {
      "cell_type": "code",
      "source": [
        "df_atraso_categoria = df_final.filter(\"atraso_dias > 0\").groupBy(\"product_category_name\") \\\n",
        "    .agg(countDistinct(\"order_id\").alias(\"num_pedidos\")) \\\n",
        "    .orderBy(\"num_pedidos\", ascending=False)\n",
        "\n",
        "df_atraso_categoria.toPandas().to_csv(\"/content/atraso_categoria.csv\", index=False, encoding=\"utf-8\")\n",
        "\n",
        "from google.colab import files\n",
        "files.download(\"/content/atraso_categoria.csv\")"
      ],
      "metadata": {
        "colab": {
          "base_uri": "https://localhost:8080/",
          "height": 17
        },
        "id": "K47FoPXBBes1",
        "outputId": "71e27cc9-922f-4ccc-ae14-d64ccaa588bd"
      },
      "execution_count": null,
      "outputs": [
        {
          "output_type": "display_data",
          "data": {
            "text/plain": [
              "<IPython.core.display.Javascript object>"
            ],
            "application/javascript": [
              "\n",
              "    async function download(id, filename, size) {\n",
              "      if (!google.colab.kernel.accessAllowed) {\n",
              "        return;\n",
              "      }\n",
              "      const div = document.createElement('div');\n",
              "      const label = document.createElement('label');\n",
              "      label.textContent = `Downloading \"${filename}\": `;\n",
              "      div.appendChild(label);\n",
              "      const progress = document.createElement('progress');\n",
              "      progress.max = size;\n",
              "      div.appendChild(progress);\n",
              "      document.body.appendChild(div);\n",
              "\n",
              "      const buffers = [];\n",
              "      let downloaded = 0;\n",
              "\n",
              "      const channel = await google.colab.kernel.comms.open(id);\n",
              "      // Send a message to notify the kernel that we're ready.\n",
              "      channel.send({})\n",
              "\n",
              "      for await (const message of channel.messages) {\n",
              "        // Send a message to notify the kernel that we're ready.\n",
              "        channel.send({})\n",
              "        if (message.buffers) {\n",
              "          for (const buffer of message.buffers) {\n",
              "            buffers.push(buffer);\n",
              "            downloaded += buffer.byteLength;\n",
              "            progress.value = downloaded;\n",
              "          }\n",
              "        }\n",
              "      }\n",
              "      const blob = new Blob(buffers, {type: 'application/binary'});\n",
              "      const a = document.createElement('a');\n",
              "      a.href = window.URL.createObjectURL(blob);\n",
              "      a.download = filename;\n",
              "      div.appendChild(a);\n",
              "      a.click();\n",
              "      div.remove();\n",
              "    }\n",
              "  "
            ]
          },
          "metadata": {}
        },
        {
          "output_type": "display_data",
          "data": {
            "text/plain": [
              "<IPython.core.display.Javascript object>"
            ],
            "application/javascript": [
              "download(\"download_a85c06f5-157a-40ce-96d7-6d4c6763489d\", \"atraso_categoria.csv\", 1445)"
            ]
          },
          "metadata": {}
        }
      ]
    },
    {
      "cell_type": "code",
      "source": [
        "df_atraso_mes = df_final.filter(\"atraso_dias > 0\").groupBy(\"mes\") \\\n",
        "  .agg(countDistinct(\"order_id\").alias(\"total_pedidos\")) \\\n",
        "  .orderBy(\"mes\")\n",
        "\n",
        "df_atraso_mes.toPandas().to_csv(\"/content/atraso_mes.csv\", index=False, encoding=\"utf-8\")\n",
        "\n",
        "from google.colab import files\n",
        "files.download(\"/content/atraso_mes.csv\")"
      ],
      "metadata": {
        "colab": {
          "base_uri": "https://localhost:8080/",
          "height": 17
        },
        "id": "oetLZh0cBe5L",
        "outputId": "19a70649-4870-474c-a588-81711934a01f"
      },
      "execution_count": null,
      "outputs": [
        {
          "output_type": "display_data",
          "data": {
            "text/plain": [
              "<IPython.core.display.Javascript object>"
            ],
            "application/javascript": [
              "\n",
              "    async function download(id, filename, size) {\n",
              "      if (!google.colab.kernel.accessAllowed) {\n",
              "        return;\n",
              "      }\n",
              "      const div = document.createElement('div');\n",
              "      const label = document.createElement('label');\n",
              "      label.textContent = `Downloading \"${filename}\": `;\n",
              "      div.appendChild(label);\n",
              "      const progress = document.createElement('progress');\n",
              "      progress.max = size;\n",
              "      div.appendChild(progress);\n",
              "      document.body.appendChild(div);\n",
              "\n",
              "      const buffers = [];\n",
              "      let downloaded = 0;\n",
              "\n",
              "      const channel = await google.colab.kernel.comms.open(id);\n",
              "      // Send a message to notify the kernel that we're ready.\n",
              "      channel.send({})\n",
              "\n",
              "      for await (const message of channel.messages) {\n",
              "        // Send a message to notify the kernel that we're ready.\n",
              "        channel.send({})\n",
              "        if (message.buffers) {\n",
              "          for (const buffer of message.buffers) {\n",
              "            buffers.push(buffer);\n",
              "            downloaded += buffer.byteLength;\n",
              "            progress.value = downloaded;\n",
              "          }\n",
              "        }\n",
              "      }\n",
              "      const blob = new Blob(buffers, {type: 'application/binary'});\n",
              "      const a = document.createElement('a');\n",
              "      a.href = window.URL.createObjectURL(blob);\n",
              "      a.download = filename;\n",
              "      div.appendChild(a);\n",
              "      a.click();\n",
              "      div.remove();\n",
              "    }\n",
              "  "
            ]
          },
          "metadata": {}
        },
        {
          "output_type": "display_data",
          "data": {
            "text/plain": [
              "<IPython.core.display.Javascript object>"
            ],
            "application/javascript": [
              "download(\"download_828cfa35-fe35-4819-902a-dbc1f23b97c9\", \"atraso_mes.csv\", 94)"
            ]
          },
          "metadata": {}
        }
      ]
    }
  ]
}